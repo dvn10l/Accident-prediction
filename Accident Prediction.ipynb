{
 "cells": [
  {
   "cell_type": "markdown",
   "metadata": {},
   "source": [
    "# Introduction\n",
    "Road traffic accidents are extremely common. Because of their frequency, road traffic accidents are the leading cause of death worldwide, claiming millions of lives per year. Thus, a system that can predict the occurrence of road traffic accidents or crash-prone areas could potentially save lives.\n",
    "Although difficult, predicting an accident is not impossible. Accidents do not occur in a purely stochastic manner; their occurrence is influenced by many factors, such as the physical condition of the driver, the type of vehicle, driving speed, traffic conditions, road structure and weather. Examining historical accident records would help us understand the (potentially causal) relationship between these factors and road traffic accidents, which in turn would enable us to construct an incident predictor.\n",
    "Obviously, City goverment and residents would be very interested in accurate prediction of accidents. It will safe a lot of lifes, and create less traffic on the roads.\n",
    "# Data Sources\n",
    "Seatle Accidents data shows Collision situations from 2004 to Present.\n",
    "It consists of 37 columns, which record information such as location, severity of accidents, as well as various meteorological data and traffic backgrounds."
   ]
  },
  {
   "cell_type": "code",
   "execution_count": null,
   "metadata": {},
   "outputs": [],
   "source": []
  }
 ],
 "metadata": {
  "kernelspec": {
   "display_name": "Python",
   "language": "python",
   "name": "conda-env-python-py"
  },
  "language_info": {
   "codemirror_mode": {
    "name": "ipython",
    "version": 3
   },
   "file_extension": ".py",
   "mimetype": "text/x-python",
   "name": "python",
   "nbconvert_exporter": "python",
   "pygments_lexer": "ipython3",
   "version": "3.6.11"
  }
 },
 "nbformat": 4,
 "nbformat_minor": 4
}
